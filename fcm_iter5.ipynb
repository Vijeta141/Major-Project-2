{
 "cells": [
  {
   "cell_type": "code",
   "execution_count": 1,
   "metadata": {},
   "outputs": [],
   "source": [
    "from movielens import *\n",
    "import numpy as np\n",
    "from sklearn.metrics import mean_squared_error\n",
    "from sklearn.cluster import KMeans\n",
    "import sys\n",
    "import time\n",
    "import random\n",
    "import math\n",
    "import operator\n",
    "import pickle\n",
    "user = []\n",
    "item = []\n",
    "rating = []\n",
    "rating_test = []\n",
    "import skfuzzy as fuzz\n",
    "import matplotlib.pyplot as plt\n",
    "\n",
    "d = Dataset()\n",
    "d.load_users(\"data/u.user\", user)\n",
    "d.load_items(\"data/u.item\", item)\n",
    "d.load_ratings(\"data/u.base\", rating)\n",
    "d.load_ratings(\"data/u.test\", rating_test)\n",
    "\n",
    "n_users = len(user)\n",
    "n_items = len(item)\n",
    "\n",
    "utility = np.zeros((n_users, n_items))\n",
    "for r in rating:\n",
    "    utility[r.user_id-1][r.item_id-1] = r.rating\n",
    "\n",
    "# Finds the average rating for each user and stores it in the user's object\n",
    "for i in range(n_users):\n",
    "    rated = np.nonzero(utility[i]) #np.nonzero returns indices of the elements that are non-zero.\n",
    "    n = len(rated[0])\n",
    "    if n != 0:\n",
    "        user[i].avg_r = np.mean(utility[i][rated])\n",
    "    else:\n",
    "        user[i].avg_r = 0.\n",
    "\n",
    "# print (utility)\n",
    "test = np.zeros((n_users, n_items))\n",
    "for r in rating_test:\n",
    "    test[r.user_id - 1][r.item_id - 1] = r.rating\n",
    "movie_genre = []\n",
    "for movie in item:\n",
    "    movie_genre.append([movie.unknown, movie.action, movie.adventure, movie.animation, movie.childrens, movie.comedy,\n",
    "                        movie.crime, movie.documentary, movie.drama, movie.fantasy, movie.film_noir, movie.horror,\n",
    "                        movie.musical, movie.mystery, movie.romance, movie.sci_fi, movie.thriller, movie.war, movie.western])\n",
    "\n",
    "movie_genre = np.array(movie_genre)\n",
    "\n",
    "movie_genre = np.transpose(movie_genre)\n"
   ]
  },
  {
   "cell_type": "code",
   "execution_count": 7,
   "metadata": {
    "collapsed": true
   },
   "outputs": [],
   "source": [
    "cntr, u_orig, _, _, _, _, _ = fuzz.cluster.cmeans(\n",
    "    movie_genre, 19, 2, error=0.005, maxiter=500)"
   ]
  },
  {
   "cell_type": "code",
   "execution_count": 8,
   "metadata": {},
   "outputs": [
    {
     "name": "stdout",
     "output_type": "stream",
     "text": [
      "[8, 2, 2, 17, 16, 16, 16, 8, 16, 16, 2, 2, 8, 16, 16, 8, 2, 16, 16, 16, 2, 16, 16, 2, 8, 8, 2, 2, 2, 16, 16, 2, 2, 8, 16, 16, 16, 2, 2, 8, 8, 8, 16, 16, 8, 16, 8, 2, 8, 2, 16, 16, 2, 2, 17, 16, 16, 16, 16, 16, 16, 2, 8, 16, 8, 8, 8, 2, 8, 8, 1, 8, 8, 17, 2, 16, 16, 16, 2, 8, 8, 2, 8, 2, 8, 16, 16, 8, 2, 17, 8, 2, 8, 8, 8, 2, 16, 16, 1, 16, 2, 2, 1, 8, 8, 16, 16, 8, 8, 8, 8, 2, 16, 2, 2, 8, 2, 2, 2, 8, 2, 8, 8, 16, 16, 16, 16, 2, 17, 2, 16, 16, 16, 16, 16, 16, 16, 8, 8, 2, 2, 2, 2, 2, 2, 16, 2, 2, 16, 8, 8, 8, 8, 8, 17, 2, 16, 8, 2, 16, 1, 16, 8, 2, 16, 16, 8, 8, 8, 17, 8, 17, 17, 2, 2, 2, 2, 16, 2, 16, 2, 16, 2, 2, 2, 8, 16, 16, 8, 16, 16, 16, 16, 8, 2, 16, 16, 2, 16, 2, 2, 8, 2, 8, 16, 2, 17, 8, 8, 2, 8, 16, 16, 16, 16, 8, 17, 2, 2, 8, 16, 2, 16, 16, 8, 2, 2, 2, 2, 2, 2, 8, 2, 2, 8, 8, 16, 8, 16, 8, 1, 8, 8, 2, 2, 16, 2, 8, 8, 2, 8, 2, 16, 2, 8, 8, 2, 16, 8, 2, 8, 16, 2, 2, 2, 2, 2, 16, 8, 16, 2, 16, 2, 8, 16, 16, 16, 16, 16, 16, 2, 16, 16, 8, 16, 16, 16, 2, 16, 8, 2, 16, 16, 8, 2, 16, 16, 2, 16, 2, 8, 2, 16, 2, 16, 16, 2, 16, 2, 16, 17, 17, 17, 2, 16, 8, 16, 16, 8, 2, 8, 2, 2, 2, 16, 16, 16, 2, 16, 16, 2, 16, 2, 2, 8, 2, 17, 8, 16, 16, 8, 8, 2, 16, 8, 16, 8, 16, 2, 2, 2, 8, 2, 8, 2, 16, 16, 2, 2, 2, 2, 8, 2, 8, 16, 16, 8, 8, 8, 16, 16, 8, 2, 2, 16, 8, 8, 16, 2, 2, 8, 8, 8, 8, 17, 8, 16, 8, 2, 8, 8, 16, 8, 8, 8, 8, 2, 2, 8, 8, 8, 17, 2, 2, 2, 2, 8, 8, 8, 8, 8, 8, 2, 8, 8, 16, 16, 1, 8, 1, 16, 8, 16, 2, 8, 2, 16, 8, 16, 8, 2, 1, 8, 2, 8, 2, 2, 2, 2, 2, 2, 2, 2, 2, 2, 2, 2, 2, 2, 2, 8, 2, 2, 16, 2, 8, 16, 16, 16, 16, 16, 16, 2, 16, 17, 2, 16, 16, 16, 2, 16, 2, 1, 2, 16, 8, 8, 8, 2, 8, 8, 8, 16, 2, 17, 8, 8, 2, 2, 17, 2, 16, 2, 8, 8, 16, 8, 2, 16, 2, 1, 8, 16, 16, 2, 16, 16, 16, 16, 16, 2, 17, 2, 8, 16, 8, 17, 16, 2, 2, 16, 8, 8, 8, 2, 16, 16, 16, 16, 2, 16, 17, 2, 16, 8, 16, 16, 1, 8, 2, 2, 17, 16, 16, 8, 2, 2, 2, 16, 2, 2, 2, 16, 2, 16, 2, 16, 16, 16, 17, 16, 2, 2, 8, 2, 2, 2, 2, 16, 2, 8, 2, 2, 2, 8, 2, 8, 2, 8, 8, 16, 16, 2, 16, 8, 2, 16, 1, 2, 2, 16, 2, 2, 16, 2, 1, 2, 8, 2, 2, 2, 17, 2, 8, 2, 16, 2, 2, 8, 2, 2, 16, 8, 16, 2, 2, 16, 16, 16, 16, 2, 2, 8, 1, 2, 16, 16, 16, 8, 8, 17, 16, 16, 2, 2, 2, 8, 16, 16, 16, 16, 16, 16, 2, 2, 2, 16, 8, 16, 16, 16, 8, 2, 2, 8, 2, 2, 16, 8, 16, 2, 16, 8, 16, 2, 2, 2, 2, 2, 2, 2, 2, 2, 2, 2, 16, 2, 16, 2, 2, 2, 2, 8, 2, 2, 16, 8, 8, 2, 16, 2, 17, 16, 17, 8, 16, 16, 16, 16, 8, 2, 8, 16, 16, 17, 2, 16, 16, 8, 8, 16, 8, 16, 16, 8, 16, 16, 8, 8, 17, 8, 8, 8, 16, 8, 16, 16, 8, 16, 16, 17, 8, 16, 8, 16, 16, 8, 8, 8, 16, 16, 16, 2, 16, 8, 8, 8, 2, 8, 16, 2, 2, 16, 2, 2, 8, 2, 2, 2, 2, 2, 16, 8, 8, 8, 2, 2, 2, 2, 2, 2, 16, 2, 2, 17, 16, 2, 17, 2, 8, 8, 16, 8, 16, 8, 8, 8, 2, 8, 8, 2, 8, 8, 16, 8, 8, 2, 2, 16, 2, 8, 2, 16, 8, 8, 16, 16, 16, 16, 2, 2, 2, 2, 2, 16, 2, 16, 8, 8, 8, 8, 16, 2, 8, 2, 2, 2, 2, 2, 2, 2, 16, 2, 2, 8, 8, 16, 2, 2, 16, 2, 8, 8, 2, 8, 16, 16, 2, 1, 2, 16, 16, 8, 8, 9, 8, 2, 2, 8, 2, 2, 8, 16, 8, 16, 8, 16, 16, 8, 17, 8, 17, 8, 16, 16, 8, 17, 8, 2, 16, 8, 16, 16, 2, 2, 2, 16, 16, 17, 2, 16, 8, 8, 8, 2, 16, 2, 16, 16, 16, 8, 8, 16, 8, 16, 16, 8, 8, 16, 16, 16, 2, 8, 2, 16, 2, 2, 17, 2, 16, 16, 2, 16, 16, 2, 8, 16, 16, 8, 2, 2, 8, 16, 16, 16, 17, 16, 8, 16, 8, 8, 16, 2, 8, 17, 2, 17, 8, 16, 16, 2, 8, 8, 2, 16, 16, 8, 16, 8, 16, 16, 16, 16, 8, 8, 17, 16, 2, 2, 8, 8, 16, 2, 16, 2, 2, 2, 2, 16, 16, 16, 2, 2, 2, 16, 2, 2, 8, 1, 16, 2, 8, 8, 16, 8, 8, 8, 8, 8, 8, 8, 8, 8, 16, 16, 16, 8, 16, 16, 16, 2, 8, 2, 8, 16, 2, 16, 16, 2, 2, 16, 2, 8, 17, 2, 8, 2, 8, 8, 8, 2, 8, 2, 2, 8, 8, 8, 2, 16, 8, 8, 2, 8, 8, 16, 2, 8, 8, 8, 16, 8, 8, 16, 8, 16, 2, 8, 16, 8, 2, 8, 16, 16, 2, 2, 2, 8, 16, 16, 8, 8, 8, 2, 8, 16, 2, 2, 2, 8, 8, 2, 16, 2, 2, 16, 16, 2, 2, 2, 2, 2, 8, 8, 8, 8, 17, 16, 8, 16, 17, 16, 8, 8, 8, 2, 16, 16, 16, 16, 8, 16, 16, 16, 8, 17, 2, 16, 8, 16, 8, 16, 16, 16, 17, 2, 16, 16, 2, 16, 2, 2, 16, 2, 16, 16, 16, 16, 17, 2, 8, 2, 2, 2, 16, 16, 16, 16, 16, 16, 16, 2, 17, 16, 2, 8, 16, 2, 16, 2, 16, 16, 8, 16, 2, 8, 8, 8, 16, 16, 8, 16, 8, 16, 16, 17, 16, 8, 8, 8, 8, 8, 8, 8, 2, 8, 8, 2, 8, 16, 8, 16, 16, 16, 16, 16, 16, 8, 2, 8, 16, 2, 8, 8, 8, 16, 8, 2, 16, 8, 2, 16, 16, 16, 16, 2, 17, 2, 8, 8, 16, 16, 2, 16, 16, 8, 16, 16, 2, 16, 8, 16, 2, 16, 8, 2, 16, 8, 16, 2, 2, 8, 8, 2, 2, 2, 8, 2, 2, 8, 2, 8, 16, 2, 8, 16, 16, 16, 8, 8, 16, 16, 17, 16, 16, 16, 16, 16, 16, 8, 8, 8, 8, 16, 2, 2, 16, 2, 16, 2, 2, 16, 16, 8, 16, 16, 8, 8, 8, 17, 16, 8, 2, 2, 2, 8, 8, 16, 8, 16, 16, 8, 8, 2, 2, 8, 16, 2, 8, 16, 16, 8, 8, 2, 2, 16, 16, 16, 2, 16, 16, 8, 8, 16, 16, 16, 16, 16, 16, 16, 16, 2, 16, 8, 16, 16, 8, 8, 16, 8, 17, 16, 16, 16, 16, 16, 16, 16, 16, 8, 16, 8, 16, 17, 16, 16, 8, 17, 2, 16, 8, 8, 2, 2, 2, 16, 16, 2, 16, 16, 16, 8, 2, 2, 8, 16, 8, 8, 2, 17, 16, 16, 16, 2, 16, 8, 2, 17, 16, 16, 2, 16, 16, 2, 17, 16, 16, 16, 16, 2, 16, 16, 16, 8, 8, 16, 16, 2, 8, 2, 16, 2, 2, 2, 2, 2, 2, 16, 16, 2, 8, 16, 2, 16, 17, 8, 8, 16, 8, 16, 16, 2, 16, 16, 17, 8, 16, 8, 16, 16, 16, 16, 16, 16, 8, 16, 8, 16, 16, 16, 17, 2, 8, 16, 2, 2, 8, 8, 8, 2, 8, 8, 16, 8, 16, 8, 16, 16, 16, 2, 2, 2, 8, 16, 8, 8, 2, 2, 16, 8, 8, 16, 2, 17, 8, 16, 16, 8, 16, 8, 8, 2, 8, 17, 8, 16, 8, 2, 8, 8, 8, 2, 8, 2, 8, 16, 16, 8, 16, 8, 2, 8, 16, 8, 16, 17, 16, 16, 16, 16, 2, 8, 2, 2, 16, 8, 17, 8, 16, 2, 16, 2, 16, 16, 8, 16, 16, 8, 16, 16, 2, 16, 16, 16, 8, 16, 16, 2, 2, 2, 8, 16, 2, 2, 16, 2, 2, 8, 16, 2, 2, 16, 2, 17, 16, 16, 16, 8, 8, 8, 8, 16, 16, 2, 2, 16, 2, 16, 16, 2, 17, 2, 2, 16, 16, 2, 16, 2, 8, 8, 16, 16, 16, 8, 2, 2, 2, 16, 2, 16, 8, 2, 16, 16, 2, 8, 2, 16, 16, 8, 2, 8, 17, 16, 8, 2, 16, 17, 2, 16, 8, 2, 8, 16, 2, 2, 8, 8, 16, 2, 16, 8, 2, 8, 16, 16, 16, 16, 16, 16, 16, 2, 16, 16, 8, 16, 16, 8, 16, 8, 16, 16, 17, 16, 8, 8, 8, 16, 16, 8, 16, 16, 16, 16, 8, 16, 16, 16, 8, 16, 8, 16, 16, 2, 16, 16, 16, 16, 16, 2, 16, 8, 16]\n"
     ]
    }
   ],
   "source": [
    "labels = list(np.argmax(u_orig, axis=0) + 1)\n",
    "print (labels)"
   ]
  },
  {
   "cell_type": "code",
   "execution_count": 10,
   "metadata": {},
   "outputs": [
    {
     "name": "stdout",
     "output_type": "stream",
     "text": [
      "[[ 3.          3.28735632  0.         ...,  4.1         0.          0.        ]\n",
      " [ 0.          3.45454545  0.         ...,  5.          0.          0.        ]\n",
      " [ 0.          2.66666667  0.         ...,  0.          0.          0.        ]\n",
      " ..., \n",
      " [ 0.          3.57142857  0.         ...,  0.          0.          0.        ]\n",
      " [ 5.          4.31818182  0.         ...,  4.25        0.          0.        ]\n",
      " [ 4.          3.51666667  0.         ...,  3.625       0.          0.        ]]\n"
     ]
    }
   ],
   "source": [
    "utility_clustered = []\n",
    "for i in range(0, n_users):\n",
    "    average = np.zeros(19)\n",
    "    tmp = []\n",
    "    for m in range(0, 19):\n",
    "        tmp.append([])\n",
    "    for j in range(0, n_items):\n",
    "        if utility[i][j] != 0:\n",
    "            tmp[labels[j] - 1].append(utility[i][j])#find the cluster of each movie the user has rated and append the rating\n",
    "    for m in range(0, 19):\n",
    "        if len(tmp[m]) != 0:\n",
    "            average[m] = np.mean(tmp[m])\n",
    "        else:\n",
    "            average[m] = 0\n",
    "    utility_clustered.append(average)\n",
    "\n",
    "utility_clustered = np.array(utility_clustered)\n",
    "print (utility_clustered)\n",
    "for i in range(0, n_users):\n",
    "    x = utility_clustered[i]\n",
    "    user[i].avg_r = sum(a for a in x if a > 0) / sum(a > 0 for a in x)\n"
   ]
  },
  {
   "cell_type": "code",
   "execution_count": 11,
   "metadata": {},
   "outputs": [
    {
     "name": "stdout",
     "output_type": "stream",
     "text": [
      "Generating Similarity Matrix [943:680] = -0.642416"
     ]
    }
   ],
   "source": [
    "def pcs(x, y):\n",
    "    num = 0\n",
    "    den1 = 0\n",
    "    den2 = 0\n",
    "    A = utility_clustered[x - 1]\n",
    "    B = utility_clustered[y - 1]\n",
    "    num = sum((a - user[x - 1].avg_r) * (b - user[y - 1].avg_r) for a, b in zip(A, B) if a > 0 and b > 0)\n",
    "    den1 = sum((a - user[x - 1].avg_r) ** 2 for a in A if a > 0)\n",
    "    den2 = sum((b - user[y - 1].avg_r) ** 2 for b in B if b > 0)\n",
    "    den = (den1 ** 0.5) * (den2 ** 0.5)\n",
    "    if den == 0:\n",
    "        return 0\n",
    "    else:\n",
    "        return num / den\n",
    "\n",
    "pcs_matrix = np.zeros((n_users, n_users))\n",
    "for i in range(0, n_users):\n",
    "    for j in range(0, n_users):\n",
    "        if i!=j:\n",
    "            pcs_matrix[i][j] = pcs(i + 1, j + 1)\n",
    "            sys.stdout.write(\"\\rGenerating Similarity Matrix [%d:%d] = %f\" % (i+1, j+1, pcs_matrix[i][j]))\n",
    "            sys.stdout.flush()\n",
    "            time.sleep(0.00005)\n",
    "print (\"\\rGenerating Similarity Matrix [%d:%d] = %f\" % (i+1, j+1, pcs_matrix[i][j]))\n"
   ]
  },
  {
   "cell_type": "code",
   "execution_count": 12,
   "metadata": {},
   "outputs": [
    {
     "name": "stdout",
     "output_type": "stream",
     "text": [
      "Guessing [User:Rating] = [942:18]\n"
     ]
    }
   ],
   "source": [
    "def norm():\n",
    "    normalize = np.zeros((n_users, 19))\n",
    "    for i in range(0, n_users):\n",
    "        for j in range(0, 19):\n",
    "            if utility_clustered[i][j] != 0:\n",
    "                normalize[i][j] = utility_clustered[i][j] - user[i].avg_r\n",
    "            else:\n",
    "                normalize[i][j] = float('Inf')\n",
    "    return normalize\n",
    "\n",
    "def guess(user_id, i_id, top_n):\n",
    "    similarity = []\n",
    "    for i in range(0, n_users):\n",
    "        if i+1 != user_id:\n",
    "            similarity.append(pcs_matrix[user_id-1][i]) #append the row of user from similarity matrix\n",
    "    temp = norm()\n",
    "    temp = np.delete(temp, user_id-1, 0)\n",
    "    top = [x for (y,x) in sorted(zip(similarity,temp), key=lambda pair: pair[0], reverse=True)]\n",
    "    s = 0\n",
    "    c = 0\n",
    "    for i in range(0, top_n):\n",
    "        if top[i][i_id-1] != float('Inf'):\n",
    "            s += top[i][i_id-1]\n",
    "            c += 1\n",
    "    g = user[user_id-1].avg_r if c == 0 else s/float(c) + user[user_id-1].avg_r\n",
    "    if g < 1.0:\n",
    "        return 1.0\n",
    "    elif g > 5.0:\n",
    "        return 5.0\n",
    "    else:\n",
    "        return g\n",
    "\n",
    "utility_copy = np.copy(utility_clustered)\n",
    "for i in range(0, n_users):\n",
    "    for j in range(0, 19):\n",
    "        if utility_copy[i][j] == 0:\n",
    "            sys.stdout.write(\"\\rGuessing [User:Rating] = [%d:%d]\" % (i, j))\n",
    "            sys.stdout.flush()\n",
    "            time.sleep(0.00005)\n",
    "            utility_copy[i][j] = guess(i+1, j+1, 150)\n",
    "print (\"\\rGuessing [User:Rating] = [%d:%d]\" % (i, j))\n",
    "pickle.dump( utility_copy, open(\"utility_matrix.pkl\", \"wb\"))"
   ]
  },
  {
   "cell_type": "code",
   "execution_count": 14,
   "metadata": {},
   "outputs": [
    {
     "name": "stdout",
     "output_type": "stream",
     "text": [
      "Mean Squared Error: 1.127145\n"
     ]
    }
   ],
   "source": [
    "y_true = []\n",
    "y_pred = []\n",
    "f = open('test.txt', 'w')\n",
    "for i in range(0, n_users):\n",
    "    for j in range(0, n_items):\n",
    "        if test[i][j] > 0:\n",
    "            f.write(\"%d, %d, %.4f\\n\" % (i+1, j+1, utility_copy[i][labels[j]-1]))\n",
    "            y_true.append(test[i][j])\n",
    "            y_pred.append(utility_copy[i][labels[j]-1])\n",
    "f.close()\n",
    "\n",
    "print (\"Mean Squared Error: %f\" % mean_squared_error(y_true, y_pred))"
   ]
  },
  {
   "cell_type": "code",
   "execution_count": null,
   "metadata": {
    "collapsed": true
   },
   "outputs": [],
   "source": []
  }
 ],
 "metadata": {
  "kernelspec": {
   "display_name": "Python 3",
   "language": "python",
   "name": "python3"
  },
  "language_info": {
   "codemirror_mode": {
    "name": "ipython",
    "version": 3
   },
   "file_extension": ".py",
   "mimetype": "text/x-python",
   "name": "python",
   "nbconvert_exporter": "python",
   "pygments_lexer": "ipython3",
   "version": "3.6.3"
  }
 },
 "nbformat": 4,
 "nbformat_minor": 2
}
