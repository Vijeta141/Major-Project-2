{
 "cells": [
  {
   "cell_type": "code",
   "execution_count": 59,
   "metadata": {},
   "outputs": [],
   "source": [
    "from movielens import *\n",
    "import numpy as np\n",
    "from sklearn.metrics import mean_squared_error\n",
    "from sklearn.metrics import pairwise_distances_argmin_min\n",
    "from sklearn.cluster import KMeans\n",
    "import sys\n",
    "import time\n",
    "import pickle\n",
    "user = []\n",
    "item = []\n",
    "rating = []\n",
    "rating_test = []\n",
    "\n",
    "# Load the movie lens dataset into arrays\n",
    "d = Dataset()\n",
    "d.load_users(\"data/u.user\", user)\n",
    "d.load_items(\"data/u.item\", item)\n",
    "d.load_ratings(\"data/u.base\", rating)\n",
    "d.load_ratings(\"data/u.test\", rating_test)\n",
    "n_users = len(user)\n",
    "\n",
    "n_items = len(item)\n",
    "\n",
    "\n",
    "utility = np.zeros((n_users, n_items))\n",
    "for r in rating:\n",
    "    utility[r.user_id-1][r.item_id-1] = r.rating\n",
    "\n",
    "# Finds the average rating for each user and stores it in the user's object\n",
    "for i in range(n_users):\n",
    "    rated = np.nonzero(utility[i]) #np.nonzero returns indices of the elements that are non-zero.\n",
    "    n = len(rated[0])\n",
    "    if n != 0:\n",
    "        user[i].avg_r = np.mean(utility[i][rated])\n",
    "    else:\n",
    "        user[i].avg_r = 0.\n",
    "\n",
    "# print (utility)\n",
    "test = np.zeros((n_users, n_items))\n",
    "for r in rating_test:\n",
    "    test[r.user_id - 1][r.item_id - 1] = r.rating\n",
    "\n",
    "cluster = KMeans(n_clusters=8)\n",
    "cluster.fit_predict(utility)\n",
    "\n",
    "# print (cluster.labels_)\n",
    "utility_copy = np.copy(utility)\n",
    "def predict(user_id,item_id):\n",
    "    cluster_number = cluster.labels_[user_id]\n",
    "\n",
    "    indices = [i for i, x in enumerate(cluster.labels_) if x == cluster_number]\n",
    "\n",
    "    y = []\n",
    "    for user in indices:\n",
    "        x = utility[user][item_id]\n",
    "        y.append(x)\n",
    "\n",
    "    y = list(filter((0.0).__ne__, y))\n",
    "\n",
    "    if len(y) == 0:\n",
    "        return 0.0\n",
    "    else:\n",
    "        max_r = max(y,key=y.count)\n",
    "\n",
    "    return max_r"
   ]
  },
  {
   "cell_type": "code",
   "execution_count": 71,
   "metadata": {},
   "outputs": [
    {
     "name": "stdout",
     "output_type": "stream",
     "text": [
      "[7 1 2 2 4 0 3 6 2 0 5 6 3 6 1 5 2 3 2 2 1 4 5 6 6 1 2 6 2 2 2 2 2 2 2 2 2\n",
      " 6 2 2 6 5 5 5 1 2 2 6 6 2 2 1 2 1 2 4 1 0 3 3 2 5 1 5 6 2 2 2 1 5 2 5 6 2\n",
      " 1 6 6 2 2 2 1 5 4 1 3 2 4 2 1 3 6 7 2 7 7 6 6 2 1 2 1 4 2 1 2 6 2 2 4 4 2\n",
      " 2 2 6 6 2 1 6 1 2 6 6 6 2 5 2 2 5 2 7 2 2 2 2 2 2 1 6 2 2 1 2 2 5 7 2 2 6\n",
      " 2 2 3 6 2 6 2 2 1 4 1 1 2 2 2 1 2 2 2 1 2 2 2 2 2 5 2 1 6 7 2 6 1 2 2 0 2\n",
      " 1 6 6 0 1 2 2 1 3 2 2 4 5 2 4 7 2 2 2 2 2 5 2 2 5 2 2 5 6 6 5 2 6 2 2 4 7\n",
      " 1 2 2 2 2 2 2 5 2 6 5 3 6 6 6 2 0 2 2 2 6 5 2 4 2 6 5 6 1 2 6 5 2 4 2 2 2\n",
      " 2 2 5 5 6 1 2 4 7 0 6 3 6 2 1 6 7 1 2 7 7 2 2 6 2 2 5 1 6 2 5 7 6 7 1 5 0\n",
      " 5 5 0 2 7 2 7 2 0 2 5 3 2 2 7 3 3 4 6 6 2 5 2 4 0 2 6 1 6 5 7 7 2 5 2 4 2\n",
      " 0 2 1 2 6 3 2 2 0 0 5 5 4 4 1 2 6 2 6 2 0 2 2 1 2 2 6 6 2 7 2 2 2 2 2 2 6\n",
      " 6 2 5 7 2 2 2 7 5 5 6 2 6 2 0 2 7 2 3 2 6 6 7 4 6 1 6 5 4 2 5 1 1 2 7 3 5\n",
      " 2 0 2 6 6 2 2 2 7 7 2 2 2 6 1 2 2 4 6 2 2 7 1 2 1 2 2 7 6 0 2 2 2 2 4 2 2\n",
      " 1 2 4 2 2 3 2 5 4 5 5 5 7 0 1 2 2 2 1 2 6 4 2 5 2 1 2 4 2 3 2 6 2 6 5 6 6\n",
      " 2 2 4 2 1 4 5 2 2 2 6 4 2 4 6 4 6 6 5 1 2 0 5 5 7 1 6 2 2 2 2 2 5 2 2 2 1\n",
      " 2 2 4 2 6 3 1 1 0 6 2 6 2 7 7 1 0 5 3 6 2 1 5 5 5 2 4 2 2 1 2 2 7 1 6 5 1\n",
      " 2 2 2 6 1 3 6 2 2 2 5 0 6 1 2 2 2 6 2 2 2 4 2 6 1 2 1 2 2 2 4 2 5 2 2 6 7\n",
      " 5 2 1 2 2 2 2 4 6 2 2 2 6 7 2 6 2 6 2 2 2 2 6 2 2 5 4 1 4 4 2 1 6 2 4 2 6\n",
      " 1 2 5 2 1 2 2 1 6 6 6 2 7 7 2 6 2 6 7 2 3 2 2 7 5 3 2 2 6 5 5 5 2 1 0 5 3\n",
      " 6 2 6 2 4 2 2 2 2 6 2 2 6 2 2 7 2 6 2 6 2 2 1 6 2 2 6 5 2 2 1 6 1 2 2 2 1\n",
      " 6 4 2 0 1 4 6 5 5 2 1 4 3 1 2 6 2 5 2 2 2 2 2 7 2 2 2 6 2 1 6 2 2 2 5 2 2\n",
      " 6 2 2 2 6 4 3 6 7 2 5 2 6 2 2 6 4 7 2 2 1 2 6 1 2 5 2 1 2 1 6 2 6 4 2 6 2\n",
      " 6 2 6 6 2 2 2 2 5 2 7 2 4 2 1 1 2 5 7 2 5 2 2 2 2 2 7 5 5 4 2 2 2 2 2 2 2\n",
      " 5 2 2 2 2 2 6 2 5 2 1 4 2 2 2 4 6 2 0 1 6 6 2 6 1 0 2 2 5 6 2 3 5 0 2 6 1\n",
      " 2 2 0 2 2 2 2 2 2 2 5 2 7 2 2 6 5 2 0 6 1 2 2 6 2 6 6 2 7 7 5 0 2 6 7 4 2\n",
      " 7 6 1 7 2 1 2 7 4 2 5 2 4 2 6 2 2 2 1 6 2 1 6 6 5 2 2 7 2 6 1 2 6 4 1 6 2\n",
      " 2 4 2 6 2 2 3 4 5 1 1 2 1 1 6 2 6 4]\n"
     ]
    }
   ],
   "source": [
    "print (cluster.labels_)"
   ]
  },
  {
   "cell_type": "code",
   "execution_count": 78,
   "metadata": {},
   "outputs": [
    {
     "name": "stdout",
     "output_type": "stream",
     "text": [
      "[ 38.35154222  24.04558228  19.2479372   52.51026738  33.39130376\n",
      "  33.33337685  23.93273502  46.48306212]\n",
      "[ 37.63108895  22.08952939  15.96337183  51.92352375  31.33016385\n",
      "  31.5550742   21.3926997   45.89969724]\n"
     ]
    }
   ],
   "source": [
    "x1 =  (cluster.transform(utility))\n",
    "print (x1[2])\n",
    "print (x1[3])"
   ]
  },
  {
   "cell_type": "code",
   "execution_count": 61,
   "metadata": {},
   "outputs": [
    {
     "name": "stdout",
     "output_type": "stream",
     "text": [
      "[928 119 684 193 745 537 699 932]\n"
     ]
    }
   ],
   "source": [
    "closest, _ = pairwise_distances_argmin_min(cluster.cluster_centers_, utility)\n",
    "print (closest)"
   ]
  },
  {
   "cell_type": "code",
   "execution_count": 85,
   "metadata": {},
   "outputs": [
    {
     "name": "stdout",
     "output_type": "stream",
     "text": [
      "\n"
     ]
    }
   ],
   "source": [
    "dist = []\n",
    "indices = [i for i, x in enumerate(cluster.labels_) if x == 0]\n",
    "for i in indices:\n",
    "    dist.append(x1[i][0])\n",
    "print ()\n"
   ]
  },
  {
   "cell_type": "code",
   "execution_count": 38,
   "metadata": {},
   "outputs": [
    {
     "name": "stdout",
     "output_type": "stream",
     "text": [
      "[0.0, 0.0, 0.0, 0.0, 0.0, 4.0, 0.0, 0.0, 5.0, 0.0, 0.0, 0.0, 0.0, 4.0, 5.0, 5.0, 1.0, 0.0, 0.0, 0.0, 0.0, 5.0, 0.0, 0.0, 0.0, 0.0, 0.0, 0.0, 0.0, 0.0, 0.0]\n"
     ]
    }
   ],
   "source": [
    "y = []\n",
    "for user in indices:\n",
    "    x = utility[user][188]\n",
    "    y.append(x)\n",
    "print (y)"
   ]
  },
  {
   "cell_type": "code",
   "execution_count": 39,
   "metadata": {},
   "outputs": [
    {
     "name": "stdout",
     "output_type": "stream",
     "text": [
      "[4.0, 5.0, 4.0, 5.0, 5.0, 1.0, 5.0]\n"
     ]
    }
   ],
   "source": [
    "y = list(filter((0.0).__ne__, y))\n",
    "print (y)"
   ]
  },
  {
   "cell_type": "code",
   "execution_count": 40,
   "metadata": {},
   "outputs": [
    {
     "name": "stdout",
     "output_type": "stream",
     "text": [
      "5.0\n"
     ]
    }
   ],
   "source": [
    "max_r = max(y,key=y.count)\n",
    "print (max_r)"
   ]
  },
  {
   "cell_type": "code",
   "execution_count": null,
   "metadata": {
    "collapsed": true
   },
   "outputs": [],
   "source": []
  }
 ],
 "metadata": {
  "kernelspec": {
   "display_name": "Python 3",
   "language": "python",
   "name": "python3"
  },
  "language_info": {
   "codemirror_mode": {
    "name": "ipython",
    "version": 3
   },
   "file_extension": ".py",
   "mimetype": "text/x-python",
   "name": "python",
   "nbconvert_exporter": "python",
   "pygments_lexer": "ipython3",
   "version": "3.6.3"
  }
 },
 "nbformat": 4,
 "nbformat_minor": 2
}
