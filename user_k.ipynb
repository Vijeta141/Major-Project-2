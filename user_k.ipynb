{
 "cells": [
  {
   "cell_type": "code",
   "execution_count": 59,
   "metadata": {},
   "outputs": [],
   "source": [
    "from movielens import *\n",
    "import numpy as np\n",
    "from sklearn.metrics import mean_squared_error\n",
    "from sklearn.metrics import pairwise_distances_argmin_min\n",
    "from sklearn.cluster import KMeans\n",
    "import sys\n",
    "import time\n",
    "import pickle\n",
    "user = []\n",
    "item = []\n",
    "rating = []\n",
    "rating_test = []\n",
    "\n",
    "# Load the movie lens dataset into arrays\n",
    "d = Dataset()\n",
    "d.load_users(\"data/u.user\", user)\n",
    "d.load_items(\"data/u.item\", item)\n",
    "d.load_ratings(\"data/u.base\", rating)\n",
    "d.load_ratings(\"data/u.test\", rating_test)\n",
    "n_users = len(user)\n",
    "\n",
    "n_items = len(item)\n",
    "\n",
    "\n",
    "utility = np.zeros((n_users, n_items))\n",
    "for r in rating:\n",
    "    utility[r.user_id-1][r.item_id-1] = r.rating\n",
    "\n",
    "# Finds the average rating for each user and stores it in the user's object\n",
    "for i in range(n_users):\n",
    "    rated = np.nonzero(utility[i]) #np.nonzero returns indices of the elements that are non-zero.\n",
    "    n = len(rated[0])\n",
    "    if n != 0:\n",
    "        user[i].avg_r = np.mean(utility[i][rated])\n",
    "    else:\n",
    "        user[i].avg_r = 0.\n",
    "\n",
    "# print (utility)\n",
    "test = np.zeros((n_users, n_items))\n",
    "for r in rating_test:\n",
    "    test[r.user_id - 1][r.item_id - 1] = r.rating\n",
    "\n",
    "cluster = KMeans(n_clusters=8)\n",
    "cluster.fit_predict(utility)\n",
    "\n",
    "# print (cluster.labels_)\n",
    "utility_copy = np.copy(utility)\n",
    "distance = {}\n",
    "ratings = [1.0,2.0,3.0,4.0,5.0]\n",
    "def predict(user_id,item_id):\n",
    "    scores = [0,0,0,0,0]   \n",
    "    \n",
    "    for i in indices:\n",
    "        if not distance[i]:\n",
    "            sum_d = sum((utility[user_id][j] - utility[i][j]) for j in range(0,n_items))\n",
    "        #     sum_f = sum_d ** 0.5\n",
    "            lamb = 1/ (sum_d ** 2)   \n",
    "            distance[i] = lamb\n",
    "    for j in ratings:\n",
    "            for i in indices:\n",
    "                if utility[i][item_id] == j:\n",
    "                    scores[int(j-1)]+=distance[i]\n",
    "    max_s = max(scores)\n",
    "\n",
    "    return float(scores.index(max_s) + 1)\n"
   ]
  },
  {
   "cell_type": "code",
   "execution_count": null,
   "metadata": {},
   "outputs": [
    {
     "name": "stdout",
     "output_type": "stream",
     "text": [
      "Guessing [User:Rating] = [58:1591]"
     ]
    }
   ],
   "source": [
    "for i in range(0,n_users):\n",
    "  for j in range(0,n_items):\n",
    "      if utility_copy[i][j] == 0:\n",
    "        sys.stdout.write(\"\\rGuessing [User:Rating] = [%d:%d]\" % (i, j))\n",
    "        sys.stdout.flush()\n",
    "        time.sleep(0.00005)\n",
    "        utility_copy[i][j] = predict(i,j)\n",
    "# print (\"\\rGuessing [User:Rating] = [%d:%d]\" % (i, j))\n",
    "pickle.dump( utility_copy, open(\"utility_matrix.pkl\", \"wb\"))\n",
    "\n",
    "# print (utility_copy)\n",
    "y_true = []\n",
    "y_pred = []\n",
    "f = open('test.txt', 'w')\n",
    "for i in range(0, n_users):\n",
    "    for j in range(0, n_items):\n",
    "        if test[i][j] > 0:\n",
    "            y_true.append(test[i][j])\n",
    "            y_pred.append(utility_copy[i][j])\n",
    "f.close()\n",
    "# print (y_true)\n",
    "# print (y_pred)\n",
    "\n",
    "print (\"Mean Squared Error: %f\" % mean_squared_error(y_true, y_pred))\n",
    "#  6"
   ]
  },
  {
   "cell_type": "code",
   "execution_count": null,
   "metadata": {},
   "outputs": [],
   "source": []
  },
  {
   "cell_type": "code",
   "execution_count": null,
   "metadata": {},
   "outputs": [],
   "source": []
  },
  {
   "cell_type": "code",
   "execution_count": 123,
   "metadata": {},
   "outputs": [
    {
     "name": "stdout",
     "output_type": "stream",
     "text": [
      "[91, 93, 94, 129, 144, 177, 200, 221, 267, 275, 278, 279, 290, 292, 300, 302, 310, 326, 327, 362, 373, 377, 386, 392, 404, 415, 416, 428, 434, 456, 505, 531, 532, 550, 591, 605, 641, 642, 647, 652, 681, 726, 748, 757, 787, 795, 803, 863, 879, 880, 885, 888, 891, 895, 915]\n"
     ]
    }
   ],
   "source": [
    "dist = []\n",
    "indices = [i for i, x in enumerate(cluster.labels_) if x == 7]\n",
    "indices.remove(0)\n",
    "print (indices)"
   ]
  },
  {
   "cell_type": "code",
   "execution_count": 138,
   "metadata": {},
   "outputs": [
    {
     "name": "stdout",
     "output_type": "stream",
     "text": [
      "[1.0, 2.0, 3.0, 4.0, 5.0]\n",
      "4\n",
      "[6.4746291656145398e-06, 0, 0, 0.06256762158459693, 0.0021526053991735988]\n"
     ]
    }
   ],
   "source": [
    "distance = {}\n",
    "ratings = [1.0,2.0,3.0,4.0,5.0]\n",
    "print (ratings)\n",
    "scores = [0,0,0,0,0]\n",
    "for i in indices:\n",
    "    if not distance[i]:\n",
    "        sum_d = sum((utility[0][j] - utility[i][j]) for j in range(0,n_items))\n",
    "    #     sum_f = sum_d ** 0.5\n",
    "        lamb = 1/ (sum_d ** 2)   \n",
    "        distance[i] = lamb\n",
    "for j in ratings:\n",
    "        for i in indices:\n",
    "            if utility[i][188] == j:\n",
    "                scores[int(j-1)]+=distance[i]\n",
    "max_s = max(scores)\n",
    "\n",
    "return float(scores.index(max_s) + 1)\n"
   ]
  },
  {
   "cell_type": "code",
   "execution_count": 109,
   "metadata": {},
   "outputs": [
    {
     "name": "stdout",
     "output_type": "stream",
     "text": [
      "[0.0, 3.0, 0.0, 0.0, 0.0, 0.0, 0.0, 0.0, 5.0, 0.0, 0.0, 5.0, 4.0, 3.0, 5.0, 0.0, 2.0, 4.0, 0.0, 0.0, 0.0, 0.0, 0.0, 0.0, 0.0, 0.0, 0.0, 0.0, 0.0, 0.0]\n",
      "[3.0, 5.0, 5.0, 4.0, 3.0, 5.0, 2.0, 4.0]\n"
     ]
    }
   ],
   "source": [
    "y = []\n",
    "for user in indices:\n",
    "    x = utility[user][188]\n",
    "    y.append(x)\n",
    "\n",
    "print (y)\n",
    "y = list(filter((0.0).__ne__, y))\n",
    "print (y)"
   ]
  },
  {
   "cell_type": "code",
   "execution_count": 40,
   "metadata": {},
   "outputs": [
    {
     "name": "stdout",
     "output_type": "stream",
     "text": [
      "5.0\n"
     ]
    }
   ],
   "source": [
    "max_r = max(y,key=y.count)\n",
    "print (max_r)"
   ]
  },
  {
   "cell_type": "code",
   "execution_count": null,
   "metadata": {
    "collapsed": true
   },
   "outputs": [],
   "source": [
    "for "
   ]
  }
 ],
 "metadata": {
  "kernelspec": {
   "display_name": "Python 3",
   "language": "python",
   "name": "python3"
  },
  "language_info": {
   "codemirror_mode": {
    "name": "ipython",
    "version": 3
   },
   "file_extension": ".py",
   "mimetype": "text/x-python",
   "name": "python",
   "nbconvert_exporter": "python",
   "pygments_lexer": "ipython3",
   "version": "3.6.3"
  }
 },
 "nbformat": 4,
 "nbformat_minor": 2
}
