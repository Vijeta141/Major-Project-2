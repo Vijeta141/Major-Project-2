{
 "cells": [
  {
   "cell_type": "code",
   "execution_count": 59,
   "metadata": {},
   "outputs": [],
   "source": [
    "from movielens import *\n",
    "import numpy as np\n",
    "from sklearn.metrics import mean_squared_error\n",
    "from sklearn.metrics import pairwise_distances_argmin_min\n",
    "from sklearn.cluster import KMeans\n",
    "import sys\n",
    "import time\n",
    "import pickle\n",
    "user = []\n",
    "item = []\n",
    "rating = []\n",
    "rating_test = []\n",
    "\n",
    "# Load the movie lens dataset into arrays\n",
    "d = Dataset()\n",
    "d.load_users(\"data/u.user\", user)\n",
    "d.load_items(\"data/u.item\", item)\n",
    "d.load_ratings(\"data/u.base\", rating)\n",
    "d.load_ratings(\"data/u.test\", rating_test)\n",
    "n_users = len(user)\n",
    "\n",
    "n_items = len(item)\n",
    "\n",
    "\n",
    "utility = np.zeros((n_users, n_items))\n",
    "for r in rating:\n",
    "    utility[r.user_id-1][r.item_id-1] = r.rating\n",
    "\n",
    "# Finds the average rating for each user and stores it in the user's object\n",
    "for i in range(n_users):\n",
    "    rated = np.nonzero(utility[i]) #np.nonzero returns indices of the elements that are non-zero.\n",
    "    n = len(rated[0])\n",
    "    if n != 0:\n",
    "        user[i].avg_r = np.mean(utility[i][rated])\n",
    "    else:\n",
    "        user[i].avg_r = 0.\n",
    "\n",
    "# print (utility)\n",
    "test = np.zeros((n_users, n_items))\n",
    "for r in rating_test:\n",
    "    test[r.user_id - 1][r.item_id - 1] = r.rating\n",
    "\n",
    "cluster = KMeans(n_clusters=8)\n",
    "cluster.fit_predict(utility)\n",
    "\n",
    "# print (cluster.labels_)\n",
    "utility_copy = np.copy(utility)\n",
    "def predict(user_id,item_id):\n",
    "    cluster_number = cluster.labels_[user_id]\n",
    "\n",
    "    indices = [i for i, x in enumerate(cluster.labels_) if x == cluster_number]\n",
    "\n",
    "    y = []\n",
    "    for user in indices:\n",
    "        x = utility[user][item_id]\n",
    "        y.append(x)\n",
    "\n",
    "    y = list(filter((0.0).__ne__, y))\n",
    "\n",
    "    if len(y) == 0:\n",
    "        return 0.0\n",
    "    else:\n",
    "        max_r = max(y,key=y.count)\n",
    "\n",
    "    return max_r"
   ]
  },
  {
   "cell_type": "code",
   "execution_count": 89,
   "metadata": {},
   "outputs": [
    {
     "name": "stdout",
     "output_type": "stream",
     "text": [
      "7\n"
     ]
    }
   ],
   "source": [
    "print (cluster.labels_[0])"
   ]
  },
  {
   "cell_type": "code",
   "execution_count": 78,
   "metadata": {},
   "outputs": [
    {
     "name": "stdout",
     "output_type": "stream",
     "text": [
      "[ 38.35154222  24.04558228  19.2479372   52.51026738  33.39130376\n",
      "  33.33337685  23.93273502  46.48306212]\n",
      "[ 37.63108895  22.08952939  15.96337183  51.92352375  31.33016385\n",
      "  31.5550742   21.3926997   45.89969724]\n"
     ]
    }
   ],
   "source": [
    "x1 =  (cluster.transform(utility))\n",
    "print (x1[2])\n",
    "print (x1[3])"
   ]
  },
  {
   "cell_type": "code",
   "execution_count": 61,
   "metadata": {},
   "outputs": [
    {
     "name": "stdout",
     "output_type": "stream",
     "text": [
      "[928 119 684 193 745 537 699 932]\n"
     ]
    }
   ],
   "source": [
    "closest, _ = pairwise_distances_argmin_min(cluster.cluster_centers_, utility)\n",
    "print (closest)"
   ]
  },
  {
   "cell_type": "code",
   "execution_count": 103,
   "metadata": {},
   "outputs": [
    {
     "name": "stdout",
     "output_type": "stream",
     "text": [
      "[9, 57, 183, 188, 238, 268, 295, 298, 304, 320, 333, 341, 342, 353, 384, 408, 436, 457, 502, 526, 534, 566, 663, 706, 832, 839, 847, 853, 869, 882]\n"
     ]
    }
   ],
   "source": [
    "dist = []\n",
    "indices = [i for i, x in enumerate(cluster.labels_) if x == 0]\n",
    "indices.remove(5)\n",
    "print (indices)"
   ]
  },
  {
   "cell_type": "code",
   "execution_count": 106,
   "metadata": {},
   "outputs": [
    {
     "name": "stdout",
     "output_type": "stream",
     "text": [
      "0.0\n",
      "0.000978792822186\n",
      "0.0\n",
      "0.0\n",
      "0.0\n",
      "0.0\n",
      "0.0\n",
      "0.0\n",
      "0.0016020506248\n",
      "0.0\n",
      "0.0\n",
      "0.00154511742892\n",
      "0.00106298166357\n",
      "0.000887311446318\n",
      "0.00147885241053\n",
      "0.0\n",
      "0.000524796641301\n",
      "0.00128\n",
      "0.0\n",
      "0.0\n",
      "0.0\n",
      "0.0\n",
      "0.0\n",
      "0.0\n",
      "0.0\n",
      "0.0\n",
      "0.0\n",
      "0.0\n",
      "0.0\n",
      "0.0\n"
     ]
    }
   ],
   "source": [
    "distance = {}\n",
    "for i in indices:\n",
    "    sum_d = sum((utility[5][j] - utility[i][j]) ** 2 for j in range(0,n_items))\n",
    "    sum_f = sum_d ** 0.5\n",
    "    lamb = 1/ sum_d    \n",
    "    final_weight = lamb * utility[i][188]\n",
    "    print (final_weight)\n",
    "\n"
   ]
  },
  {
   "cell_type": "code",
   "execution_count": 39,
   "metadata": {},
   "outputs": [
    {
     "name": "stdout",
     "output_type": "stream",
     "text": [
      "[4.0, 5.0, 4.0, 5.0, 5.0, 1.0, 5.0]\n"
     ]
    }
   ],
   "source": [
    "y = []\n",
    "for user in indices:\n",
    "    x = utility[user][188]\n",
    "    y.append(x)\n",
    "\n",
    "print (y)\n",
    "y = list(filter((0.0).__ne__, y))\n",
    "print (y)"
   ]
  },
  {
   "cell_type": "code",
   "execution_count": 40,
   "metadata": {},
   "outputs": [
    {
     "name": "stdout",
     "output_type": "stream",
     "text": [
      "5.0\n"
     ]
    }
   ],
   "source": [
    "max_r = max(y,key=y.count)\n",
    "print (max_r)"
   ]
  },
  {
   "cell_type": "code",
   "execution_count": null,
   "metadata": {
    "collapsed": true
   },
   "outputs": [],
   "source": [
    "for "
   ]
  }
 ],
 "metadata": {
  "kernelspec": {
   "display_name": "Python 3",
   "language": "python",
   "name": "python3"
  },
  "language_info": {
   "codemirror_mode": {
    "name": "ipython",
    "version": 3
   },
   "file_extension": ".py",
   "mimetype": "text/x-python",
   "name": "python",
   "nbconvert_exporter": "python",
   "pygments_lexer": "ipython3",
   "version": "3.6.3"
  }
 },
 "nbformat": 4,
 "nbformat_minor": 2
}
