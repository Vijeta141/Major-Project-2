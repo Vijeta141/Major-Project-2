{
 "cells": [
  {
   "cell_type": "code",
   "execution_count": 4,
   "metadata": {
    "collapsed": true
   },
   "outputs": [],
   "source": [
    "from movielens import *\n",
    "import numpy as np\n",
    "from sklearn.metrics import mean_squared_error\n",
    "from sklearn.cluster import KMeans\n",
    "import sys\n",
    "import time\n",
    "import random\n",
    "import math\n",
    "import operator\n",
    "import pickle\n",
    "user = []\n",
    "item = []\n",
    "rating = []\n",
    "rating_test = []\n",
    "import skfuzzy as fuzz\n",
    "import matplotlib.pyplot as plt\n",
    "# Load the movie lens dataset into arrays\n",
    "d = Dataset()\n",
    "d.load_users(\"data/u10.user\", user)\n",
    "d.load_items(\"data/u.item\", item)\n",
    "d.load_ratings(\"data/u10.base\", rating)\n",
    "d.load_ratings(\"data/u10.test\", rating_test)\n",
    "n_users = len(user)\n",
    "\n",
    "n_items = len(item)\n",
    "\n",
    "\n",
    "utility = np.zeros((n_users, n_items))\n",
    "for r in rating:\n",
    "    utility[r.user_id-1][r.item_id-1] = r.rating\n",
    "\n",
    "# Finds the average rating for each user and stores it in the user's object\n",
    "for i in range(n_users):\n",
    "    rated = np.nonzero(utility[i]) #np.nonzero returns indices of the elements that are non-zero.\n",
    "    n = len(rated[0])\n",
    "    if n != 0:\n",
    "        user[i].avg_r = np.mean(utility[i][rated])\n",
    "    else:\n",
    "        user[i].avg_r = 0.\n"
   ]
  },
  {
   "cell_type": "code",
   "execution_count": 5,
   "metadata": {
    "collapsed": true
   },
   "outputs": [],
   "source": [
    "test = np.zeros((n_users, n_items))\n",
    "for r in rating_test:\n",
    "    test[r.user_id - 1][r.item_id - 1] = r.rating"
   ]
  },
  {
   "cell_type": "code",
   "execution_count": 6,
   "metadata": {},
   "outputs": [
    {
     "name": "stdout",
     "output_type": "stream",
     "text": [
      "[2, 1, 1, 1, 2, 2, 2, 1, 1, 2, 2, 1, 2, 2, 1, 2, 1, 2, 1, 1, 1, 2, 2, 1, 2, 1, 1, 1, 1, 1, 1, 1, 1, 1, 1, 1, 1, 3, 1, 1, 1, 2, 2, 2, 1, 1, 1, 1, 2, 1]\n"
     ]
    }
   ],
   "source": [
    "utility_transposed = np.transpose(utility)\n",
    "cntr, u_orig, _, _, _, _, _ = fuzz.cluster.cmeans(utility_transposed, 3, 2, error=0.005, maxiter=300)\n",
    "labels = list(np.argmax(u_orig, axis=0) + 1)\n",
    "\n",
    "print (labels)\n"
   ]
  },
  {
   "cell_type": "code",
   "execution_count": 7,
   "metadata": {},
   "outputs": [
    {
     "name": "stdout",
     "output_type": "stream",
     "text": [
      "Guessing [User:Rating] = [49:1681]Mean Squared Error: 3.574000\n"
     ]
    }
   ],
   "source": [
    "utility_copy = np.copy(utility)\n",
    "def predict(user_id,item_id):\n",
    "\tcluster_number = labels[user_id]\n",
    "\tc = []\n",
    "\tfor i in range(0,n_users):\n",
    "\t\tif(labels[i] == cluster_number):\n",
    "\t\t  c.append(i)\n",
    "\n",
    "\ty = []\n",
    "\tfor user in c:\n",
    "\t    x = utility[user][item_id]\n",
    "\t    y.append(x)\n",
    "\n",
    "\tmax_r = max(y,key=y.count)\n",
    "\n",
    "\tif max_r == 0.0:\n",
    "\t\ty = list(filter((0.0).__ne__, y))\n",
    "\t\tif len(y) == 0:\n",
    "\t\t\treturn 0.0\n",
    "\t\telse:\n",
    "\t\t\tmax_r = max(y,key=y.count)\n",
    "\n",
    "\t# print (y)\n",
    "\n",
    "\treturn max_r\n",
    "\n",
    "\n",
    "for i in range(0,n_users):\n",
    "  for j in range(0,n_items):\n",
    "      if utility_copy[i][j] == 0:\n",
    "        sys.stdout.write(\"\\rGuessing [User:Rating] = [%d:%d]\" % (i, j))\n",
    "        sys.stdout.flush()\n",
    "        time.sleep(0.00005)\n",
    "        utility_copy[i][j] = predict(i,j)\n",
    "# print (\"\\rGuessing [User:Rating] = [%d:%d]\" % (i, j))\n",
    "pickle.dump( utility_copy, open(\"utility_matrix.pkl\", \"wb\"))\n",
    "\n",
    "# print (utility_copy)\n",
    "y_true = []\n",
    "y_pred = []\n",
    "f = open('test.txt', 'w')\n",
    "for i in range(0, n_users):\n",
    "    for j in range(0, n_items):\n",
    "        if test[i][j] > 0:\n",
    "            y_true.append(test[i][j])\n",
    "            y_pred.append(utility_copy[i][j])\n",
    "f.close()\n",
    "# print (y_true)\n",
    "# print (y_pred)\n",
    "\n",
    "print (\"Mean Squared Error: %f\" % mean_squared_error(y_true, y_pred))"
   ]
  },
  {
   "cell_type": "code",
   "execution_count": null,
   "metadata": {
    "collapsed": true
   },
   "outputs": [],
   "source": []
  }
 ],
 "metadata": {
  "kernelspec": {
   "display_name": "Python 3",
   "language": "python",
   "name": "python3"
  },
  "language_info": {
   "codemirror_mode": {
    "name": "ipython",
    "version": 3
   },
   "file_extension": ".py",
   "mimetype": "text/x-python",
   "name": "python",
   "nbconvert_exporter": "python",
   "pygments_lexer": "ipython3",
   "version": "3.6.3"
  }
 },
 "nbformat": 4,
 "nbformat_minor": 2
}
